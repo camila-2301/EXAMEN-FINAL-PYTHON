{
 "cells": [
  {
   "cell_type": "code",
   "execution_count": null,
   "metadata": {},
   "outputs": [],
   "source": [
    "#TRABAJO DE ADRIANA CAMILA ARANIBAR HUERTA"
   ]
  },
  {
   "cell_type": "markdown",
   "metadata": {},
   "source": [
    "# PROBLEMAS DIVERSOS"
   ]
  },
  {
   "cell_type": "markdown",
   "metadata": {},
   "source": [
    "<h3>1.</h3>\n",
    "Realizar una función que permita la carga de n alumnos. Por cada alumno se deberá preguntar el nombre completo y permitir el ingreso de 3 notas. Las notas deben estar comprendidas entre 0 y 10. Devolver el listado de alumnos."
   ]
  },
  {
   "cell_type": "code",
   "execution_count": null,
   "metadata": {},
   "outputs": [],
   "source": [
    "def datosAlumnos():\n",
    "    listado = []\n",
    "    n = int(input(\"Cantidad de alumnos:\"))\n",
    "    for i in range(n):\n",
    "        nom = input(\"Nombre: \")\n",
    "        alumno = [nom]\n",
    "        for j in range(3):\n",
    "            nota = int(input(\"Ingrese nota \"+str(j+1)+\": \"))\n",
    "            while nota < 0 or nota > 10:\n",
    "                print(\"Nota invalida.\")\n",
    "                nota = int(input(\"Ingrese nota \"+str(j+1)+\": \"))\n",
    "            alumno.append(nota)\n",
    "        listado.append(alumno)\n",
    "    return listado"
   ]
  },
  {
   "cell_type": "code",
   "execution_count": null,
   "metadata": {},
   "outputs": [],
   "source": []
  },
  {
   "cell_type": "markdown",
   "metadata": {},
   "source": [
    "### 2.\n",
    "Definir una función que dado un listado de alumnos evalúe cuántos aprobaron y cuántos desaprobaron, teniendo en cuenta que se aprueba con 4. La nota será el promedio de las 3 notas para cada alumno."
   ]
  },
  {
   "cell_type": "code",
   "execution_count": null,
   "metadata": {},
   "outputs": [],
   "source": [
    "def aproDesap(listado):\n",
    "    aprob = 0\n",
    "    desap = 0\n",
    "    for alumno in listado:\n",
    "        prom = sum(alumno[1:])/3\n",
    "        if prom >= 4:\n",
    "            aprob += 1\n",
    "        else:\n",
    "            desap += 1\n",
    "    print(\"Aprobados\",aprob)\n",
    "    print(\"Desaprobados\",desap)"
   ]
  },
  {
   "cell_type": "markdown",
   "metadata": {},
   "source": [
    "### 3.\n",
    "Informar el promedio de nota del curso total."
   ]
  },
  {
   "cell_type": "code",
   "execution_count": null,
   "metadata": {},
   "outputs": [],
   "source": [
    "def promTotal(listado):\n",
    "    promT = 0\n",
    "    for alumno in listado:\n",
    "        prom = sum(alumno[1:])/3\n",
    "        promT += prom\n",
    "    promT = promT/len(listado)\n",
    "    print(\"Promedio total del curso:\", promT)"
   ]
  },
  {
   "cell_type": "code",
   "execution_count": null,
   "metadata": {},
   "outputs": [],
   "source": []
  },
  {
   "cell_type": "markdown",
   "metadata": {},
   "source": [
    "### 4.\n",
    "Realizar una función que indique quién tuvo el promedio más alto y quién tuvo la nota promedio más baja."
   ]
  },
  {
   "cell_type": "code",
   "execution_count": null,
   "metadata": {},
   "outputs": [],
   "source": [
    "def promedios(listado):\n",
    "    alumnoMayor = \"\"\n",
    "    alumnoMenor = \"\"\n",
    "    mayorProm = 0\n",
    "    menorProm = 10\n",
    "    for alumno in listado:\n",
    "        prom = sum(alumno[1:])/3\n",
    "        if prom < menorProm:\n",
    "            alumnoMenor = alumno[0]\n",
    "            menorProm = prom\n",
    "        if prom >= mayorProm:\n",
    "            alumnoMayor = alumno[0]\n",
    "            mayorProm = prom\n",
    "    print(\"Mayor promedio: \", alumnoMayor)\n",
    "    print(\"Menor promedio: \", alumnoMenor)"
   ]
  },
  {
   "cell_type": "code",
   "execution_count": null,
   "metadata": {},
   "outputs": [],
   "source": []
  },
  {
   "cell_type": "code",
   "execution_count": null,
   "metadata": {},
   "outputs": [],
   "source": []
  },
  {
   "cell_type": "markdown",
   "metadata": {},
   "source": [
    "### 5.\n",
    "Realizar una función que permita buscar un alumno por nombre, siendo el nombre completo o parcial, y devuelva una lista con los n alumnos que concuerden con ese nombre junto con todos sus datos, incluido el promedio de sus notas."
   ]
  },
  {
   "cell_type": "code",
   "execution_count": null,
   "metadata": {},
   "outputs": [],
   "source": [
    "def buscarAlumno(alumno, listado):\n",
    "    alumnos = []\n",
    "    for datos in listado:\n",
    "        if alumno in datos[0]:\n",
    "            datos.append(sum(datos[1:])/3)\n",
    "            alumnos.append(datos)\n",
    "    return alumnos\n",
    "\n",
    "listado = datosAlumnos()\n",
    "aproDesap(listado)\n",
    "promTotal(listado)\n",
    "promedios(listado)\n",
    "print(buscarAlumno('Jose', listado))"
   ]
  }
 ],
 "metadata": {
  "kernelspec": {
   "display_name": "Python 3",
   "language": "python",
   "name": "python3"
  },
  "language_info": {
   "codemirror_mode": {
    "name": "ipython",
    "version": 3
   },
   "file_extension": ".py",
   "mimetype": "text/x-python",
   "name": "python",
   "nbconvert_exporter": "python",
   "pygments_lexer": "ipython3",
   "version": "3.8.5"
  }
 },
 "nbformat": 4,
 "nbformat_minor": 4
}
